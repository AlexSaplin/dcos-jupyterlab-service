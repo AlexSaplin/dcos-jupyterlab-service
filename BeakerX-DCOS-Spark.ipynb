{
 "cells": [
  {
   "cell_type": "code",
   "execution_count": null,
   "metadata": {
    "scrolled": false
   },
   "outputs": [],
   "source": [
    "%classpath add jar /opt/spark/jars/*"
   ]
  },
  {
   "cell_type": "code",
   "execution_count": null,
   "metadata": {},
   "outputs": [],
   "source": [
    "println(sys.env(\"SPARK_MASTER\"))\n",
    "println(sys.env(\"SPARK_MESOS_CONTAINERIZER\"))\n",
    "println(sys.env(\"SPARK_MESOS_PRINCIPAL\"))\n",
    "println(sys.env(\"SPARK_MESOS_ROLE\"))\n",
    "println(sys.env(\"SPARK_CORES_MAX\"))\n",
    "println(sys.env(\"SPARK_DRIVER_CORES\"))\n",
    "println(sys.env(\"SPARK_DRIVER_MEMORY\"))\n",
    "println(sys.env(\"SPARK_EXECUTOR_CORES\"))\n",
    "println(sys.env(\"SPARK_EXECUTOR_MEMORY\"))\n",
    "println(sys.env(\"SPARK_MESOS_EXECUTOR_DOCKER_IMAGE\"))\n",
    "println(sys.env(\"SPARK_EXECUTOR_HOME\"))\n",
    "println(sys.env(\"SPARK_MESOS_DRIVER_LABELS\"))\n",
    "println(sys.env(\"PORT_SPARKDRIVER\"))\n",
    "println(sys.env(\"PORT_SPARKBLOCKMANAGER\"))\n",
    "println(sys.env(\"PORT_SPARKUI\"))"
   ]
  },
  {
   "cell_type": "code",
   "execution_count": null,
   "metadata": {},
   "outputs": [],
   "source": [
    "%%spark --connect\n",
    "SparkSession.builder()\n",
    ".master(sys.env(\"SPARK_MASTER\"))\n",
    ".config(\"spark.mesos.containerizer\", sys.env(\"SPARK_MESOS_CONTAINERIZER\"))\n",
    ".config(\"spark.mesos.principal\", sys.env(\"SPARK_MESOS_PRINCIPAL\"))\n",
    ".config(\"spark.mesos.role\", sys.env(\"SPARK_MESOS_ROLE\"))\n",
    ".config(\"spark.cores.max\", sys.env(\"SPARK_CORES_MAX\"))\n",
    ".config(\"spark.driver.cores\", sys.env(\"SPARK_DRIVER_CORES\"))\n",
    ".config(\"spark.driver.cores\", sys.env(\"SPARK_DRIVER_MEMORY\"))\n",
    ".config(\"spark.executor.cores\", sys.env(\"SPARK_EXECUTOR_CORES\"))\n",
    ".config(\"spark.executor.memory\", sys.env(\"SPARK_EXECUTOR_MEMORY\"))\n",
    ".config(\"spark.mesos.executor.docker.image\", sys.env(\"SPARK_MESOS_EXECUTOR_DOCKER_IMAGE\"))\n",
    ".config(\"spark.executor.home\", sys.env(\"SPARK_EXECUTOR_HOME\"))\n",
    ".config(\"spark.mesos.driver.labels\", sys.env(\"SPARK_MESOS_DRIVER_LABELS\"))\n",
    ".config(\"spark.driver.port\", sys.env(\"PORT_SPARKDRIVER\"))\n",
    ".config(\"spark.driver.blockManager.port\", sys.env(\"PORT_SPARKBLOCKMANAGER\"))\n",
    ".config(\"spark.ui.port\", sys.env(\"PORT_SPARKUI\"))\n",
    ".config(\"spark.mesos.driverEnv.SPARK_MESOS_KRB5_CONF_BASE64\", \"dmlzaG51Cg==\")\n",
    ".config(\"spark.executorEnv.SPARK_MESOS_KRB5_CONF_BASE64\", \"dmlzaG51Cg==\")"
   ]
  },
  {
   "cell_type": "code",
   "execution_count": null,
   "metadata": {},
   "outputs": [],
   "source": [
    "val NUM_SAMPLES = 10000000\n",
    "\n",
    "val count2 = spark.sparkContext.parallelize(1 to NUM_SAMPLES).map{i =>\n",
    "  val x = Math.random()\n",
    "  val y = Math.random()\n",
    "  if (x*x + y*y < 1) 1 else 0\n",
    "}.reduce(_ + _)\n",
    "\n",
    "println(\"Pi is roughly \" + 4.0 * count2 / NUM_SAMPLES)"
   ]
  }
 ],
 "metadata": {
  "kernelspec": {
   "display_name": "Scala",
   "language": "scala",
   "name": "scala"
  },
  "language_info": {
   "codemirror_mode": "text/x-scala",
   "file_extension": ".scala",
   "mimetype": "",
   "name": "Scala",
   "nbconverter_exporter": "",
   "version": "2.11.12"
  }
 },
 "nbformat": 4,
 "nbformat_minor": 2
}
