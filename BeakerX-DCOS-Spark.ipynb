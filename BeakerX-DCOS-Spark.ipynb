{
 "cells": [
  {
   "cell_type": "code",
   "execution_count": null,
   "metadata": {
    "scrolled": false
   },
   "outputs": [],
   "source": [
    "%classpath add jar /opt/spark/jars/*"
   ]
  },
  {
   "cell_type": "code",
   "execution_count": null,
   "metadata": {},
   "outputs": [],
   "source": [
    "println(sys.env(\"SPARK_OPTS\"))"
   ]
  },
  {
   "cell_type": "code",
   "execution_count": null,
   "metadata": {},
   "outputs": [],
   "source": [
    "println(sys.env(\"SPARK_MASTER_URL\"))\n",
    "println(sys.env(\"SPARK_CONF_MESOS_CONTAINERIZER\").split(\"=\")(1))\n",
    "println(sys.env(\"SPARK_CONF_MESOS_PRINCIPAL\").split(\"=\")(1))\n",
    "println(sys.env(\"SPARK_CONF_MESOS_ROLE\").split(\"=\")(1))\n",
    "println(sys.env(\"SPARK_CONF_CORES_MAX\").split(\"=\")(1))\n",
    "println(sys.env(\"SPARK_DRIVER_CORES\"))\n",
    "println(sys.env(\"SPARK_DRIVER_MEMORY\"))\n",
    "println(sys.env(\"SPARK_CONF_EXECUTOR_CORES\").split(\"=\")(1))\n",
    "println(sys.env(\"SPARK_CONF_EXECUTOR_MEMORY\").split(\"=\")(1))\n",
    "println(sys.env(\"SPARK_CONF_MESOS_EXECUTOR_DOCKER_IMAGE\").split(\"=\")(1))\n",
    "println(sys.env(\"SPARK_CONF_MESOS_EXECUTOR_HOME\").split(\"=\")(1))\n",
    "println(sys.env(\"SPARK_CONF_MESOS_DRIVER_LABELS\").split(\"=\")(1))\n",
    "println(sys.env(\"SPARK_CONF_MESOS_TASK_LABELS\").split(\"=\")(1))\n",
    "println(sys.env(\"SPARK_CONF_MESOS_DRIVER_SECRET_NAMES\").split(\"=\")(1))\n",
    "println(sys.env(\"SPARK_CONF_MESOS_DRIVER_SECRET_ENVKEYS\").split(\"=\")(1))\n",
    "println(sys.env(\"SPARK_CONF_MESOS_EXECUTOR_SECRET_NAMES\").split(\"=\")(1))\n",
    "println(sys.env(\"SPARK_CONF_MESOS_EXECUTOR_SECRET_ENVKEYS\").split(\"=\")(1))\n",
    "println(sys.env(\"PORT_SPARKDRIVER\"))\n",
    "println(sys.env(\"PORT_SPARKBLOCKMANAGER\"))\n",
    "println(sys.env(\"PORT_SPARKUI\"))"
   ]
  },
  {
   "cell_type": "code",
   "execution_count": null,
   "metadata": {},
   "outputs": [],
   "source": [
    "%%spark --connect\n",
    "SparkSession.builder()\n",
    ".master(sys.env(\"SPARK_MASTER_URL\"))\n",
    ".config(\"spark.mesos.containerizer\", sys.env(\"SPARK_CONF_MESOS_CONTAINERIZER\").split(\"=\")(1))\n",
    ".config(\"spark.mesos.principal\", sys.env(\"SPARK_CONF_MESOS_PRINCIPAL\").split(\"=\")(1))\n",
    ".config(\"spark.mesos.role\", sys.env(\"SPARK_CONF_MESOS_ROLE\").split(\"=\")(1))\n",
    ".config(\"spark.cores.max\", sys.env(\"SPARK_CONF_CORES_MAX\").split(\"=\")(1))\n",
    ".config(\"spark.driver.cores\", sys.env(\"SPARK_DRIVER_CORES\"))\n",
    ".config(\"spark.driver.memory\", sys.env(\"SPARK_DRIVER_MEMORY\"))\n",
    ".config(\"spark.executor.cores\", sys.env(\"SPARK_CONF_EXECUTOR_CORES\").split(\"=\")(1))\n",
    ".config(\"spark.executor.memory\", sys.env(\"SPARK_CONF_EXECUTOR_MEMORY\").split(\"=\")(1))\n",
    ".config(\"spark.mesos.executor.docker.image\", sys.env(\"SPARK_CONF_MESOS_EXECUTOR_DOCKER_IMAGE\").split(\"=\")(1))\n",
    ".config(\"spark.executor.home\", sys.env(\"SPARK_CONF_MESOS_EXECUTOR_HOME\").split(\"=\")(1))\n",
    ".config(\"spark.mesos.driver.labels\", sys.env(\"SPARK_CONF_MESOS_DRIVER_LABELS\").split(\"=\")(1))\n",
    ".config(\"spark.mesos.task.labels\", sys.env(\"SPARK_CONF_MESOS_TASK_LABELS\").split(\"=\")(1))\n",
    ".config(\"spark.mesos.driver.secret.names\", sys.env(\"SPARK_CONF_MESOS_DRIVER_SECRET_NAMES\").split(\"=\")(1))\n",
    ".config(\"spark.mesos.driver.secret.envkeys\", sys.env(\"SPARK_CONF_MESOS_DRIVER_SECRET_ENVKEYS\").split(\"=\")(1))\n",
    ".config(\"spark.mesos.executor.secret.names\", sys.env(\"SPARK_CONF_MESOS_EXECUTOR_SECRET_NAMES\").split(\"=\")(1))\n",
    ".config(\"spark.mesos.executor.secret.envkeys\", sys.env(\"SPARK_CONF_MESOS_EXECUTOR_SECRET_ENVKEYS\").split(\"=\")(1))\n",
    ".config(\"spark.driver.port\", sys.env(\"PORT_SPARKDRIVER\"))\n",
    ".config(\"spark.driver.blockManager.port\", sys.env(\"PORT_SPARKBLOCKMANAGER\"))\n",
    ".config(\"spark.ui.port\", sys.env(\"PORT_SPARKUI\"))\n",
    ".config(\"spark.mesos.driverEnv.SPARK_MESOS_KRB5_CONF_BASE64\", \"dmlzaG51Cg==\")\n",
    ".config(\"spark.executorEnv.SPARK_MESOS_KRB5_CONF_BASE64\", \"dmlzaG51Cg==\")"
   ]
  },
  {
   "cell_type": "code",
   "execution_count": null,
   "metadata": {},
   "outputs": [],
   "source": [
    "val NUM_SAMPLES = 10000000\n",
    "\n",
    "val count2 = spark.sparkContext.parallelize(1 to NUM_SAMPLES).map{i =>\n",
    "  val x = Math.random()\n",
    "  val y = Math.random()\n",
    "  if (x*x + y*y < 1) 1 else 0\n",
    "}.reduce(_ + _)\n",
    "\n",
    "println(\"Pi is roughly \" + 4.0 * count2 / NUM_SAMPLES)"
   ]
  },
  {
   "cell_type": "code",
   "execution_count": null,
   "metadata": {},
   "outputs": [],
   "source": []
  }
 ],
 "metadata": {
  "kernelspec": {
   "display_name": "Scala",
   "language": "scala",
   "name": "scala"
  },
  "language_info": {
   "codemirror_mode": "text/x-scala",
   "file_extension": ".scala",
   "mimetype": "",
   "name": "Scala",
   "nbconverter_exporter": "",
   "version": "2.11.12"
  }
 },
 "nbformat": 4,
 "nbformat_minor": 2
}
